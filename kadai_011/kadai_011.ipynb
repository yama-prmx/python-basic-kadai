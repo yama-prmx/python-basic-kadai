{
  "cells": [
    {
      "cell_type": "code",
      "source": [
        "array = [\"水\",\"金\",\"地\",\"火\",\"木\",\"土\",\"天\",\"海\",\"冥\"]\n",
        "\n",
        "for value in array:\n",
        "    print(value)\n",
        "\n",
        "i = 1\n",
        "\n",
        "l = 0\n",
        "\n",
        "while i != 10:\n",
        "    i = i + 1\n",
        "    print(array[l])\n",
        "    l = l + 1"
      ],
      "metadata": {
        "id": "hcGv_7LXY6Gz",
        "outputId": "53b4443e-0795-4013-baf6-f938e9d20a8c",
        "colab": {
          "base_uri": "https://localhost:8080/"
        }
      },
      "execution_count": 136,
      "outputs": [
        {
          "output_type": "stream",
          "name": "stdout",
          "text": [
            "水\n",
            "金\n",
            "地\n",
            "火\n",
            "木\n",
            "土\n",
            "天\n",
            "海\n",
            "冥\n",
            "水\n",
            "金\n",
            "地\n",
            "火\n",
            "木\n",
            "土\n",
            "天\n",
            "海\n",
            "冥\n"
          ]
        }
      ]
    }
  ],
  "metadata": {
    "colab": {
      "provenance": []
    },
    "kernelspec": {
      "display_name": "Python 3",
      "name": "python3"
    },
    "language_info": {
      "name": "python"
    }
  },
  "nbformat": 4,
  "nbformat_minor": 0
}