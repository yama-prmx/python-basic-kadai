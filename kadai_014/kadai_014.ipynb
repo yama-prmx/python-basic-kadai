{
  "cells": [
    {
      "cell_type": "code",
      "source": [
        "price1 = 100\n",
        "price2 = 200\n",
        "tax = 1.1\n",
        "\n",
        "def total():\n",
        "    return price1 + price2\n",
        "\n",
        "print (total() * tax)"
      ],
      "metadata": {
        "colab": {
          "base_uri": "https://localhost:8080/"
        },
        "id": "SKoI87haXWm3",
        "outputId": "832857cc-640a-4a3f-f93e-20fe264aa007"
      },
      "execution_count": 31,
      "outputs": [
        {
          "output_type": "stream",
          "name": "stdout",
          "text": [
            "330.0\n"
          ]
        }
      ]
    }
  ],
  "metadata": {
    "colab": {
      "provenance": []
    },
    "kernelspec": {
      "display_name": "Python 3",
      "name": "python3"
    },
    "language_info": {
      "name": "python"
    }
  },
  "nbformat": 4,
  "nbformat_minor": 0
}