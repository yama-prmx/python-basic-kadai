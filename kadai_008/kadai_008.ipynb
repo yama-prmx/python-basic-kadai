{
  "cells": [
    {
      "cell_type": "code",
      "source": [
        "import random\n",
        "\n",
        "var = random.randint(3, 15)\n",
        "\n",
        "print(var)\n",
        "\n",
        "if var%3 == 0 and var%5 == 0 :\n",
        "    print(\"FizzBuzz\")\n",
        "elif var%3 == 0 :\n",
        "    print(\"Fizz\")\n",
        "elif var%5 == 0 :\n",
        "    print(\"Buzz\")\n",
        "else:\n",
        "    print(var)\n"
      ],
      "metadata": {
        "colab": {
          "base_uri": "https://localhost:8080/"
        },
        "id": "vGjf3fgreS31",
        "outputId": "0ea28875-853d-418a-bc1c-ed1aecfbc892"
      },
      "execution_count": 55,
      "outputs": [
        {
          "output_type": "stream",
          "name": "stdout",
          "text": [
            "10\n",
            "Buzz\n"
          ]
        }
      ]
    }
  ],
  "metadata": {
    "colab": {
      "provenance": []
    },
    "kernelspec": {
      "display_name": "Python 3",
      "name": "python3"
    },
    "language_info": {
      "name": "python"
    }
  },
  "nbformat": 4,
  "nbformat_minor": 0
}