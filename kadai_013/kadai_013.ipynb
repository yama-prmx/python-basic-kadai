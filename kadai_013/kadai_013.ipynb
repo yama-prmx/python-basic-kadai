{
  "cells": [
    {
      "cell_type": "code",
      "source": [
        "def tax_price(price,tax):\n",
        "     return price * (tax*0.01+1)\n",
        "\n",
        "tax_price(110,10)\n"
      ],
      "metadata": {
        "colab": {
          "base_uri": "https://localhost:8080/"
        },
        "id": "vmolr_r_HSTB",
        "outputId": "5589377d-94d4-4c05-b2c5-8a05b9e6afd4"
      },
      "execution_count": 7,
      "outputs": [
        {
          "output_type": "execute_result",
          "data": {
            "text/plain": [
              "121.00000000000001"
            ]
          },
          "metadata": {},
          "execution_count": 7
        }
      ]
    },
    {
      "cell_type": "code",
      "source": [],
      "metadata": {
        "id": "0ZeVc_0kHSUL"
      },
      "execution_count": null,
      "outputs": []
    }
  ],
  "metadata": {
    "colab": {
      "provenance": []
    },
    "kernelspec": {
      "display_name": "Python 3",
      "name": "python3"
    },
    "language_info": {
      "name": "python"
    }
  },
  "nbformat": 4,
  "nbformat_minor": 0
}