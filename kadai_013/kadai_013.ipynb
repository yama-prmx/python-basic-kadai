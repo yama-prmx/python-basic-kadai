{
  "cells": [
    {
      "cell_type": "code",
      "source": [
        "def tax_price(price,tax):\n",
        "    total = price * (10*0.01+1)\n",
        "    print(f\"{total}円\")\n",
        "\n",
        "tax_price(110,10)\n"
      ],
      "metadata": {
        "colab": {
          "base_uri": "https://localhost:8080/"
        },
        "id": "vmolr_r_HSTB",
        "outputId": "8ffa819f-585e-4e33-c769-7713197aa371"
      },
      "execution_count": 6,
      "outputs": [
        {
          "output_type": "stream",
          "name": "stdout",
          "text": [
            "121.00000000000001円\n"
          ]
        }
      ]
    },
    {
      "cell_type": "code",
      "source": [],
      "metadata": {
        "id": "0ZeVc_0kHSUL"
      },
      "execution_count": null,
      "outputs": []
    }
  ],
  "metadata": {
    "colab": {
      "provenance": []
    },
    "kernelspec": {
      "display_name": "Python 3",
      "name": "python3"
    },
    "language_info": {
      "name": "python"
    }
  },
  "nbformat": 4,
  "nbformat_minor": 0
}